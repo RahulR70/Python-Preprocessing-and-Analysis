{
 "cells": [
  {
   "cell_type": "code",
   "execution_count": 3,
   "id": "0ef14335-f17c-49b3-beb2-d49292b4d554",
   "metadata": {},
   "outputs": [],
   "source": [
    "import pandas as pd"
   ]
  },
  {
   "cell_type": "code",
   "execution_count": 32,
   "id": "50b374d6-8963-41e0-81fd-bf6447a435ac",
   "metadata": {},
   "outputs": [],
   "source": [
    "file_path=r\"c:\\Users\\HP\\Downloads\\myexcel.xlsx\""
   ]
  },
  {
   "cell_type": "code",
   "execution_count": 34,
   "id": "ab470f2d-ec72-480c-9ec6-6529b38aa03d",
   "metadata": {},
   "outputs": [],
   "source": [
    "df=pd.read_excel(file_path)"
   ]
  },
  {
   "cell_type": "code",
   "execution_count": 6,
   "id": "b76b0fea-c071-4eca-bbbc-6d7bbea1e35c",
   "metadata": {},
   "outputs": [
    {
     "name": "stdout",
     "output_type": "stream",
     "text": [
      "              Name            Team  Number Position  Age               Height  \\\n",
      "0    Avery Bradley  Boston Celtics       0       PG   25  2023-02-06 00:00:00   \n",
      "1      Jae Crowder  Boston Celtics      99       SF   25  2023-06-06 00:00:00   \n",
      "2     John Holland  Boston Celtics      30       SG   27  2023-05-06 00:00:00   \n",
      "3      R.J. Hunter  Boston Celtics      28       SG   22  2023-05-06 00:00:00   \n",
      "4    Jonas Jerebko  Boston Celtics       8       PF   29  2023-10-06 00:00:00   \n",
      "..             ...             ...     ...      ...  ...                  ...   \n",
      "453   Shelvin Mack       Utah Jazz       8       PG   26  2023-03-06 00:00:00   \n",
      "454      Raul Neto       Utah Jazz      25       PG   24  2023-01-06 00:00:00   \n",
      "455   Tibor Pleiss       Utah Jazz      21        C   26  2023-03-07 00:00:00   \n",
      "456    Jeff Withey       Utah Jazz      24        C   26                  7-0   \n",
      "457       Priyanka       Utah Jazz      34        C   25  2023-03-07 00:00:00   \n",
      "\n",
      "     Weight            College     Salary  \n",
      "0       180              Texas  7730337.0  \n",
      "1       235          Marquette  6796117.0  \n",
      "2       205  Boston University        NaN  \n",
      "3       185      Georgia State  1148640.0  \n",
      "4       231                NaN  5000000.0  \n",
      "..      ...                ...        ...  \n",
      "453     203             Butler  2433333.0  \n",
      "454     179                NaN   900000.0  \n",
      "455     256                NaN  2900000.0  \n",
      "456     231             Kansas   947276.0  \n",
      "457     231             Kansas   947276.0  \n",
      "\n",
      "[458 rows x 9 columns]\n"
     ]
    }
   ],
   "source": [
    "print(df)"
   ]
  },
  {
   "cell_type": "code",
   "execution_count": 7,
   "id": "a982125d-8d64-4e5e-83f3-ce02ddd98621",
   "metadata": {},
   "outputs": [],
   "source": [
    "# data preprocessing"
   ]
  },
  {
   "cell_type": "code",
   "execution_count": 8,
   "id": "d864e0d5-c782-43b2-8427-8904c44523f7",
   "metadata": {},
   "outputs": [
    {
     "data": {
      "text/plain": [
       "Name         0\n",
       "Team         0\n",
       "Number       0\n",
       "Position     0\n",
       "Age          0\n",
       "Height       0\n",
       "Weight       0\n",
       "College     84\n",
       "Salary      11\n",
       "dtype: int64"
      ]
     },
     "execution_count": 8,
     "metadata": {},
     "output_type": "execute_result"
    }
   ],
   "source": [
    "df.isnull().sum()"
   ]
  },
  {
   "cell_type": "code",
   "execution_count": 9,
   "id": "fd7c2dec-7629-4371-91aa-665f9793f9ac",
   "metadata": {},
   "outputs": [],
   "source": [
    "df['College'] = df['College'].fillna('unknown')"
   ]
  },
  {
   "cell_type": "code",
   "execution_count": 10,
   "id": "99c51361-8b20-4c9d-bef4-ba96cf2d180f",
   "metadata": {},
   "outputs": [
    {
     "data": {
      "text/plain": [
       "Name         0\n",
       "Team         0\n",
       "Number       0\n",
       "Position     0\n",
       "Age          0\n",
       "Height       0\n",
       "Weight       0\n",
       "College      0\n",
       "Salary      11\n",
       "dtype: int64"
      ]
     },
     "execution_count": 10,
     "metadata": {},
     "output_type": "execute_result"
    }
   ],
   "source": [
    "df.isnull().sum()"
   ]
  },
  {
   "cell_type": "code",
   "execution_count": 11,
   "id": "30d19ff8-f1f0-4527-90e5-0314468ae956",
   "metadata": {},
   "outputs": [],
   "source": [
    "median_salary = df['Salary'].median()"
   ]
  },
  {
   "cell_type": "code",
   "execution_count": 12,
   "id": "4974c5be-c5f4-4668-b928-c5cb4433e5f4",
   "metadata": {},
   "outputs": [],
   "source": [
    "df['Salary'] = df['Salary'].fillna(median_salary)"
   ]
  },
  {
   "cell_type": "code",
   "execution_count": 13,
   "id": "fcc85e4d-f402-4bbe-9e76-6ba7329537e4",
   "metadata": {},
   "outputs": [
    {
     "data": {
      "text/plain": [
       "Name        0\n",
       "Team        0\n",
       "Number      0\n",
       "Position    0\n",
       "Age         0\n",
       "Height      0\n",
       "Weight      0\n",
       "College     0\n",
       "Salary      0\n",
       "dtype: int64"
      ]
     },
     "execution_count": 13,
     "metadata": {},
     "output_type": "execute_result"
    }
   ],
   "source": [
    "df.isnull().sum()"
   ]
  },
  {
   "cell_type": "code",
   "execution_count": 14,
   "id": "bc0e31e4-9022-4992-b4d2-34eb33663e2a",
   "metadata": {},
   "outputs": [
    {
     "data": {
      "text/plain": [
       "0"
      ]
     },
     "execution_count": 14,
     "metadata": {},
     "output_type": "execute_result"
    }
   ],
   "source": [
    "df.duplicated().sum()"
   ]
  },
  {
   "cell_type": "code",
   "execution_count": 26,
   "id": "2f5a48a9-b196-4086-9eec-9dd422a48f29",
   "metadata": {},
   "outputs": [
    {
     "data": {
      "text/plain": [
       "Name         object\n",
       "Team         object\n",
       "Number        int64\n",
       "Position     object\n",
       "Age           int64\n",
       "Height       object\n",
       "Weight        int64\n",
       "College      object\n",
       "Salary      float64\n",
       "dtype: object"
      ]
     },
     "execution_count": 26,
     "metadata": {},
     "output_type": "execute_result"
    }
   ],
   "source": [
    "df.dtypes"
   ]
  },
  {
   "cell_type": "code",
   "execution_count": 38,
   "id": "0f9df9d3-37b2-4626-bc85-6f1ae2368147",
   "metadata": {},
   "outputs": [],
   "source": [
    "#1"
   ]
  },
  {
   "cell_type": "code",
   "execution_count": 42,
   "id": "611c2b64-4cec-4d57-996c-61c36d618b85",
   "metadata": {},
   "outputs": [],
   "source": [
    "team_counts = df['Team'].value_counts()\n",
    "team_percentage = team_counts / len(df) * 100"
   ]
  },
  {
   "cell_type": "code",
   "execution_count": 44,
   "id": "cc69ffed-8428-46c6-8507-e0651ff92c30",
   "metadata": {},
   "outputs": [
    {
     "name": "stdout",
     "output_type": "stream",
     "text": [
      "Team\n",
      "New Orleans Pelicans      4.148472\n",
      "Memphis Grizzlies         3.930131\n",
      "Utah Jazz                 3.493450\n",
      "New York Knicks           3.493450\n",
      "Milwaukee Bucks           3.493450\n",
      "Brooklyn Nets             3.275109\n",
      "Portland Trail Blazers    3.275109\n",
      "Oklahoma City Thunder     3.275109\n",
      "Denver Nuggets            3.275109\n",
      "Washington Wizards        3.275109\n",
      "Miami Heat                3.275109\n",
      "Charlotte Hornets         3.275109\n",
      "Atlanta Hawks             3.275109\n",
      "San Antonio Spurs         3.275109\n",
      "Houston Rockets           3.275109\n",
      "Boston Celtics            3.275109\n",
      "Indiana Pacers            3.275109\n",
      "Detroit Pistons           3.275109\n",
      "Cleveland Cavaliers       3.275109\n",
      "Chicago Bulls             3.275109\n",
      "Sacramento Kings          3.275109\n",
      "Phoenix Suns              3.275109\n",
      "Los Angeles Lakers        3.275109\n",
      "Los Angeles Clippers      3.275109\n",
      "Golden State Warriors     3.275109\n",
      "Toronto Raptors           3.275109\n",
      "Philadelphia 76ers        3.275109\n",
      "Dallas Mavericks          3.275109\n",
      "Orlando Magic             3.056769\n",
      "Minnesota Timberwolves    3.056769\n",
      "Name: count, dtype: float64\n"
     ]
    }
   ],
   "source": [
    "print(team_percentage)"
   ]
  },
  {
   "cell_type": "code",
   "execution_count": 46,
   "id": "a8b592a2-3c28-4cde-aa9c-def4f7f4418d",
   "metadata": {},
   "outputs": [],
   "source": [
    "#2"
   ]
  },
  {
   "cell_type": "code",
   "execution_count": 48,
   "id": "25be2511-1466-4b0f-8321-9f8144637f45",
   "metadata": {},
   "outputs": [],
   "source": [
    "positions = df['Position'].unique()\n",
    "position_groups = df.groupby('Position')"
   ]
  },
  {
   "cell_type": "code",
   "execution_count": 50,
   "id": "44ccbff6-f1e1-42b9-b79e-e80bec6198fc",
   "metadata": {},
   "outputs": [
    {
     "name": "stdout",
     "output_type": "stream",
     "text": [
      "<pandas.core.groupby.generic.DataFrameGroupBy object at 0x0000014A0FA55280>\n"
     ]
    }
   ],
   "source": [
    "print(position_groups)"
   ]
  },
  {
   "cell_type": "code",
   "execution_count": 52,
   "id": "f5a9c40e-9571-44ea-9ca1-b7d754d1b98e",
   "metadata": {},
   "outputs": [],
   "source": [
    "#3"
   ]
  },
  {
   "cell_type": "code",
   "execution_count": 54,
   "id": "5b62ce6c-b8dc-4735-ba1f-3de53784b096",
   "metadata": {},
   "outputs": [],
   "source": [
    "age_bins = [20, 30, 40, 50, 60]\n",
    "age_groups = pd.cut(df['Age'], bins=age_bins)\n",
    "predominant_age_group = age_groups.value_counts().idxmax()"
   ]
  },
  {
   "cell_type": "code",
   "execution_count": 56,
   "id": "dfeb0b0c-094a-43dc-8e80-a2c7c049482b",
   "metadata": {},
   "outputs": [
    {
     "name": "stdout",
     "output_type": "stream",
     "text": [
      "(20, 30]\n"
     ]
    }
   ],
   "source": [
    "print(predominant_age_group)"
   ]
  },
  {
   "cell_type": "code",
   "execution_count": 58,
   "id": "5bf65c27-70fe-4a01-ae93-fd6c4b926d01",
   "metadata": {},
   "outputs": [],
   "source": [
    "#4"
   ]
  },
  {
   "cell_type": "code",
   "execution_count": 60,
   "id": "85c14c4b-efa0-4971-b8fc-c4a81155003d",
   "metadata": {},
   "outputs": [],
   "source": [
    "team_salary = df.groupby('Team')['Salary'].sum()\n",
    "position_salary = df.groupby('Position')['Salary'].sum()\n",
    "highest_salary_team = team_salary.idxmax()\n",
    "highest_salary_position = position_salary.idxmax()"
   ]
  },
  {
   "cell_type": "code",
   "execution_count": 62,
   "id": "f4f6712f-24ae-43be-a687-34be6f708eb5",
   "metadata": {},
   "outputs": [
    {
     "name": "stdout",
     "output_type": "stream",
     "text": [
      "C\n"
     ]
    }
   ],
   "source": [
    "print(highest_salary_position)"
   ]
  },
  {
   "cell_type": "code",
   "execution_count": 64,
   "id": "7af84caf-eb5b-43aa-91ee-0b2b8ca8e905",
   "metadata": {},
   "outputs": [],
   "source": [
    "#5"
   ]
  },
  {
   "cell_type": "code",
   "execution_count": 68,
   "id": "2772fbdd-603f-44fc-8a46-7094d0f8dcd7",
   "metadata": {},
   "outputs": [],
   "source": [
    "import matplotlib.pyplot as plt"
   ]
  },
  {
   "cell_type": "code",
   "execution_count": 70,
   "id": "f4755be4-e429-4e00-a123-9af589b2631b",
   "metadata": {},
   "outputs": [
    {
     "data": {
      "image/png": "[encoded data removed]",
      "text/plain": [
       "<Figure size 640x480 with 1 Axes>"
      ]
     },
     "metadata": {},
     "output_type": "display_data"
    }
   ],
   "source": [
    "correlation = df['Age'].corr(df['Salary'])\n",
    "plt.scatter(df['Age'], df['Salary'])\n",
    "plt.xlabel('Age')\n",
    "plt.ylabel('Salary')\n",
    "plt.title(f'Correlation: {correlation:.2f}')\n",
    "plt.show()"
   ]
  },
  {
   "cell_type": "code",
   "execution_count": null,
   "id": "3ef7b515-04ae-4908-8d4d-20df951b7b47",
   "metadata": {},
   "outputs": [],
   "source": []
  }
 ],
 "metadata": {
  "kernelspec": {
   "display_name": "Python [conda env:base] *",
   "language": "python",
   "name": "conda-base-py"
  },
  "language_info": {
   "codemirror_mode": {
    "name": "ipython",
    "version": 3
   },
   "file_extension": ".py",
   "mimetype": "text/x-python",
   "name": "python",
   "nbconvert_exporter": "python",
   "pygments_lexer": "ipython3",
   "version": "3.12.7"
  }
 },
 "nbformat": 4,
 "nbformat_minor": 5
}
